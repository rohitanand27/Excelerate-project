{
  "nbformat": 4,
  "nbformat_minor": 0,
  "metadata": {
    "colab": {
      "provenance": []
    },
    "kernelspec": {
      "name": "python3",
      "display_name": "Python 3"
    },
    "language_info": {
      "name": "python"
    }
  },
  "cells": [
    {
      "cell_type": "code",
      "execution_count": 1,
      "metadata": {
        "id": "b79aHEuRBzFT"
      },
      "outputs": [],
      "source": [
        "import pandas as pd"
      ]
    },
    {
      "cell_type": "code",
      "source": [
        "df = pd.read_csv('/content/SLU Opportunity Wise Data-1710158595043 - SLU Opportunity Wise Data-1710158595043.csv')"
      ],
      "metadata": {
        "id": "zAXyzvLsCuEu"
      },
      "execution_count": 3,
      "outputs": []
    },
    {
      "cell_type": "code",
      "source": [
        "print(df.info())"
      ],
      "metadata": {
        "colab": {
          "base_uri": "https://localhost:8080/"
        },
        "id": "3RYoKotpDYKb",
        "outputId": "b4f7adde-3890-4c74-9113-62ee9c11f288"
      },
      "execution_count": 4,
      "outputs": [
        {
          "output_type": "stream",
          "name": "stdout",
          "text": [
            "<class 'pandas.core.frame.DataFrame'>\n",
            "RangeIndex: 8558 entries, 0 to 8557\n",
            "Data columns (total 16 columns):\n",
            " #   Column                   Non-Null Count  Dtype \n",
            "---  ------                   --------------  ----- \n",
            " 0   Learner SignUp DateTime  8558 non-null   object\n",
            " 1   Opportunity Id           8558 non-null   object\n",
            " 2   Opportunity Name         8558 non-null   object\n",
            " 3   Opportunity Category     8558 non-null   object\n",
            " 4   Opportunity End Date     8558 non-null   object\n",
            " 5   First Name               8558 non-null   object\n",
            " 6   Date of Birth            8558 non-null   object\n",
            " 7   Gender                   8558 non-null   object\n",
            " 8   Country                  8558 non-null   object\n",
            " 9   Institution Name         8553 non-null   object\n",
            " 10  Current/Intended Major   8553 non-null   object\n",
            " 11  Entry created at         8558 non-null   object\n",
            " 12  Status Description       8558 non-null   object\n",
            " 13  Status Code              8558 non-null   int64 \n",
            " 14  Apply Date               8558 non-null   object\n",
            " 15  Opportunity Start Date   4764 non-null   object\n",
            "dtypes: int64(1), object(15)\n",
            "memory usage: 1.0+ MB\n",
            "None\n"
          ]
        }
      ]
    },
    {
      "cell_type": "code",
      "source": [
        "print(df.head(10))"
      ],
      "metadata": {
        "colab": {
          "base_uri": "https://localhost:8080/"
        },
        "id": "RSOPhIKcC3fP",
        "outputId": "755605c1-a9c2-4dec-9bdd-172d391233da"
      },
      "execution_count": 5,
      "outputs": [
        {
          "output_type": "stream",
          "name": "stdout",
          "text": [
            "  Learner SignUp DateTime                  Opportunity Id  \\\n",
            "0     06/14/2023 12:30:35  00000000-0GN2-A0AY-7XK8-C5FZPP   \n",
            "1     05/01/2023 05:29:16  00000000-0GN2-A0AY-7XK8-C5FZPP   \n",
            "2     04/09/2023 20:35:08  00000000-0GN2-A0AY-7XK8-C5FZPP   \n",
            "3     08/29/2023 05:20:03  00000000-0GN2-A0AY-7XK8-C5FZPP   \n",
            "4     01/06/2023 15:26:36  00000000-0GN2-A0AY-7XK8-C5FZPP   \n",
            "5     03/02/2024 19:16:07  00000000-0GN2-A0AY-7XK8-C5FZPP   \n",
            "6     05/31/2023 07:11:04  00000000-0GN2-A0AY-7XK8-C5FZPP   \n",
            "7     07/22/2023 07:30:25  00000000-0GN2-A0AY-7XK8-C5FZPP   \n",
            "8     03/20/2023 16:36:30  00000000-0GN2-A0AY-7XK8-C5FZPP   \n",
            "9     05/11/2023 03:40:33  00000000-0GN2-A0AY-7XK8-C5FZPP   \n",
            "\n",
            "                                    Opportunity Name Opportunity Category  \\\n",
            "0  Career Essentials: Getting Started with Your P...               Course   \n",
            "1  Career Essentials: Getting Started with Your P...               Course   \n",
            "2  Career Essentials: Getting Started with Your P...               Course   \n",
            "3  Career Essentials: Getting Started with Your P...               Course   \n",
            "4  Career Essentials: Getting Started with Your P...               Course   \n",
            "5  Career Essentials: Getting Started with Your P...               Course   \n",
            "6  Career Essentials: Getting Started with Your P...               Course   \n",
            "7  Career Essentials: Getting Started with Your P...               Course   \n",
            "8  Career Essentials: Getting Started with Your P...               Course   \n",
            "9  Career Essentials: Getting Started with Your P...               Course   \n",
            "\n",
            "  Opportunity End Date        First Name Date of Birth  Gender  \\\n",
            "0  06/29/2024 18:52:39             Faria    01/12/2001  Female   \n",
            "1  06/29/2024 18:52:39          Poojitha    08/16/2000  Female   \n",
            "2  06/29/2024 18:52:39          Emmanuel    01/27/2002    Male   \n",
            "3  06/29/2024 18:52:39  Amrutha Varshini    11/01/1999  Female   \n",
            "4  06/29/2024 18:52:39    Vinay Varshith    04/19/2000    Male   \n",
            "5  06/29/2024 18:52:39               Mor    05/12/1996    Male   \n",
            "6  06/29/2024 18:52:39           Fardeen    09/09/2001    Male   \n",
            "7  06/29/2024 18:52:39             Gauri    02/27/2006  Female   \n",
            "8  06/29/2024 18:52:39         SIDDHARTH    12/22/2005    Male   \n",
            "9  06/29/2024 18:52:39          Vanshika    06/26/1998  Female   \n",
            "\n",
            "                Country                     Institution Name  \\\n",
            "0              Pakistan                                Nwihs   \n",
            "1                 India                          SAINT LOUIS   \n",
            "2         United States     Illinois Institute of Technology   \n",
            "3         United States               Saint Louis University   \n",
            "4         United States               Saint Louis University   \n",
            "5                 India               Saint Louis University   \n",
            "6                 India     Illinois Institute of Technology   \n",
            "7  United Arab Emirates  GEMS New Millennium School Al Khail   \n",
            "8                 India                       Ashoka Academy   \n",
            "9                 India     Illinois Institute of Technology   \n",
            "\n",
            "                Current/Intended Major     Entry created at  \\\n",
            "0                            Radiology  03/11/2024 12:01:41   \n",
            "1                  Information Systems  03/11/2024 12:01:41   \n",
            "2                     Computer Science  03/11/2024 12:01:41   \n",
            "3                  Information Systems  03/11/2024 12:01:41   \n",
            "4                     Computer Science  03/11/2024 12:01:41   \n",
            "5               Mechanical Engineering  03/11/2024 12:01:41   \n",
            "6     Computer Science and Engineering  03/11/2024 12:01:41   \n",
            "7              Artificial Intelligence  03/11/2024 12:01:41   \n",
            "8  Robotics and Automation Engineering  03/11/2024 12:01:41   \n",
            "9                     Computer Science  03/11/2024 12:01:41   \n",
            "\n",
            "  Status Description  Status Code                Apply Date  \\\n",
            "0            Started         1080       06/14/2023 12:36:09   \n",
            "1            Started         1080       05/01/2023 06:08:21   \n",
            "2            Started         1080  05/11/2023 1085640:21:29   \n",
            "3     Team Allocated         1070       10/09/2023 22:02:42   \n",
            "4            Started         1080       01/06/2023 15:40:10   \n",
            "5         Waitlisted         1040       03/02/2024 20:30:35   \n",
            "6           Withdraw         1110       06/14/2023 05:29:41   \n",
            "7     Team Allocated         1070       07/22/2023 07:44:24   \n",
            "8            Started         1080       05/24/2023 13:44:09   \n",
            "9     Team Allocated         1070       12/17/2023 02:58:44   \n",
            "\n",
            "  Opportunity Start Date  \n",
            "0    11/03/2022 18:30:39  \n",
            "1    11/03/2022 18:30:39  \n",
            "2    11/03/2022 18:30:39  \n",
            "3    11/03/2022 18:30:39  \n",
            "4    11/03/2022 18:30:39  \n",
            "5                    NaN  \n",
            "6    11/03/2022 18:30:39  \n",
            "7    11/03/2022 18:30:39  \n",
            "8    11/03/2022 18:30:39  \n",
            "9    11/03/2022 18:30:39  \n"
          ]
        }
      ]
    },
    {
      "cell_type": "code",
      "source": [
        "print(df.describe())"
      ],
      "metadata": {
        "colab": {
          "base_uri": "https://localhost:8080/"
        },
        "id": "1jXXbg9TDoah",
        "outputId": "e668c412-c77c-44b8-c317-d09550ab662f"
      },
      "execution_count": 6,
      "outputs": [
        {
          "output_type": "stream",
          "name": "stdout",
          "text": [
            "       Status Code\n",
            "count  8558.000000\n",
            "mean   1052.225987\n",
            "std      21.665207\n",
            "min    1010.000000\n",
            "25%    1030.000000\n",
            "50%    1050.000000\n",
            "75%    1070.000000\n",
            "max    1120.000000\n"
          ]
        }
      ]
    },
    {
      "cell_type": "code",
      "source": [
        "print(\"Duplicate Rows:\", df.duplicated().sum())"
      ],
      "metadata": {
        "colab": {
          "base_uri": "https://localhost:8080/"
        },
        "id": "AuowcMSvD6-p",
        "outputId": "9a7effe2-fa83-42d2-ff0f-507ce254992f"
      },
      "execution_count": 7,
      "outputs": [
        {
          "output_type": "stream",
          "name": "stdout",
          "text": [
            "Duplicate Rows: 0\n"
          ]
        }
      ]
    },
    {
      "cell_type": "code",
      "source": [
        "print(df.isnull().sum())"
      ],
      "metadata": {
        "colab": {
          "base_uri": "https://localhost:8080/"
        },
        "id": "onUIajffELnH",
        "outputId": "81c5416a-feda-478d-8880-d51a18124a9b"
      },
      "execution_count": 9,
      "outputs": [
        {
          "output_type": "stream",
          "name": "stdout",
          "text": [
            "Learner SignUp DateTime       0\n",
            "Opportunity Id                0\n",
            "Opportunity Name              0\n",
            "Opportunity Category          0\n",
            "Opportunity End Date          0\n",
            "First Name                    0\n",
            "Date of Birth                 0\n",
            "Gender                        0\n",
            "Country                       0\n",
            "Institution Name              5\n",
            "Current/Intended Major        5\n",
            "Entry created at              0\n",
            "Status Description            0\n",
            "Status Code                   0\n",
            "Apply Date                    0\n",
            "Opportunity Start Date     3794\n",
            "dtype: int64\n"
          ]
        }
      ]
    },
    {
      "cell_type": "code",
      "source": [
        "# Convert date columns to datetime format\n",
        "date_columns = [\n",
        "    \"Learner SignUp DateTime\", \"Opportunity End Date\", \"Date of Birth\",\n",
        "    \"Entry created at\", \"Apply Date\", \"Opportunity Start Date\"\n",
        "]"
      ],
      "metadata": {
        "id": "1Ty6G-Bh6FaQ"
      },
      "execution_count": 11,
      "outputs": []
    },
    {
      "cell_type": "code",
      "source": [
        "for col in date_columns:\n",
        "    df[col] = pd.to_datetime(df[col], errors='coerce')"
      ],
      "metadata": {
        "id": "IQyj4aZ96VMJ"
      },
      "execution_count": 13,
      "outputs": []
    },
    {
      "cell_type": "code",
      "source": [
        "# Handle missing values\n",
        "df = df.copy()\n",
        "df.loc[:, \"Institution Name\"] = df[\"Institution Name\"].fillna(\"Unknown\")\n",
        "df.loc[:, \"Opportunity Start Date\"] = df[\"Opportunity Start Date\"].fillna(df[\"Opportunity Start Date\"].mode()[0])"
      ],
      "metadata": {
        "id": "iSSd6ay26YvC"
      },
      "execution_count": 33,
      "outputs": []
    },
    {
      "cell_type": "code",
      "source": [
        "# Fix Apply Date errors (drop rows with invalid timestamps)\n",
        "df = df[df[\"Apply Date\"].notna()]"
      ],
      "metadata": {
        "id": "V9W_0vWjDHTE"
      },
      "execution_count": 30,
      "outputs": []
    },
    {
      "cell_type": "code",
      "source": [
        "# Standardize categorical data\n",
        "df.loc[:, \"Institution Name\"] = df[\"Institution Name\"].str.title().str.strip()\n",
        "df.loc[:, \"Opportunity Category\"] = df[\"Opportunity Category\"].str.title().str.strip()\n",
        "df.loc[:, \"Current/Intended Major\"] = df[\"Current/Intended Major\"].str.title().str.strip()\n",
        "df.loc[:, \"Country\"] = df[\"Country\"].str.title().str.strip()\n",
        "df.loc[:, \"Gender\"] = df[\"Gender\"].str.capitalize().str.strip()\n",
        "df.loc[:, \"Status Description\"] = df[\"Status Description\"].str.title().str.strip()\n",
        "df.loc[:, \"Institution Name\"] = df[\"Institution Name\"].str.replace(r\"(?i)\\bst\\.?\\s*louis\\b\", \"Saint Louis\", regex=True)"
      ],
      "metadata": {
        "id": "5GuwKZ-0DSRM"
      },
      "execution_count": 34,
      "outputs": []
    },
    {
      "cell_type": "code",
      "source": [
        "# Remove \"Time to Apply\" column if it exists\n",
        "df = df.drop(columns=[\"Time to Apply\"], errors='ignore')"
      ],
      "metadata": {
        "id": "eUD3ojciGVOE"
      },
      "execution_count": 45,
      "outputs": []
    },
    {
      "cell_type": "code",
      "source": [
        "# Remove duplicates\n",
        "df.drop_duplicates(inplace=True)"
      ],
      "metadata": {
        "id": "kQDVxgf46dSr"
      },
      "execution_count": 46,
      "outputs": []
    },
    {
      "cell_type": "code",
      "source": [
        "# Feature Engineering\n",
        "df[\"Age\"] = (pd.Timestamp.today() - df[\"Date of Birth\"]).dt.days // 365\n",
        "df[\"Opportunity Duration\"] = (df[\"Opportunity End Date\"] - df[\"Opportunity Start Date\"]).dt.days\n",
        "\n"
      ],
      "metadata": {
        "id": "4YklCW-RFjaM"
      },
      "execution_count": 47,
      "outputs": []
    },
    {
      "cell_type": "code",
      "source": [
        "# Save the cleaned dataset\n",
        "cleaned_file_path = \"Cleaned_SLU_Opportunity_Data.csv\"\n",
        "df.to_csv(cleaned_file_path, index=False)\n",
        "\n",
        "print(\"Dataset cleaned and saved as\", cleaned_file_path)\n"
      ],
      "metadata": {
        "colab": {
          "base_uri": "https://localhost:8080/"
        },
        "id": "-trb09R7Fprp",
        "outputId": "cb097a85-1c85-4370-a9f6-83ce9b97e802"
      },
      "execution_count": 48,
      "outputs": [
        {
          "output_type": "stream",
          "name": "stdout",
          "text": [
            "Dataset cleaned and saved as Cleaned_SLU_Opportunity_Data.csv\n"
          ]
        }
      ]
    }
  ]
}